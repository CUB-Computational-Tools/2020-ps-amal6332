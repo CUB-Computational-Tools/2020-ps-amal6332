{
 "cells": [
  {
   "cell_type": "markdown",
   "metadata": {},
   "source": [
    "#### **Geotherms and planetary interiors**\n",
    "##### Author: Amanda Alexander\n",
    "##### Week 3"
   ]
  },
  {
   "cell_type": "markdown",
   "metadata": {},
   "source": [
    "### Learning Goals\n",
    ">1. Define what is a *geotherm* and how it differs on various planets\n",
    "\n",
    ">2. Compute an example geotherm on the earth and moon\n",
    "\n",
    ">3. Gain familiarity with *flow control* in python using while and for loops\n",
    "\n",
    ">4. Use *boolean logic* to determine layer boundaries of planetary interiors in computing and plotting geotherms"
   ]
  },
  {
   "cell_type": "markdown",
   "metadata": {},
   "source": [
    "### Prerequisites\n",
    "*Concept requirements*\n",
    "\n",
    "Students completing this lesson plan should have completed introductory coursework in geology and physics and calculus (CALC I,II). Concepts that will be encountered that should be familiar involve temperature, pressure, heating with depth (and the associated heat sources: conduction, convection and radioactive decay), gradients, gravity and material properties. Students should have a pre-existing general understanding of the make-up and distinct regions of planetary interiors (crust, mantle, core + aesthenosphere, lithosphere, mesosphere).\n",
    "\n",
    "*Programming requirements*\n",
    "\n",
    "Students should be familiar with Python and basic use of the following: plotting with matplotlib, numpy arrays, lists, print statements.\n"
   ]
  },
  {
   "cell_type": "markdown",
   "metadata": {},
   "source": [
    "### Background\n",
    "\n",
    "The **geothermal gradient** is the amount that the Earth’s temperature increases with depth. As one travels from the surface of the Earth inward toward the core, temperatures increase -- these temperatures can reach as high as 5000-7000 degrees in/near the core! \n",
    "\n",
    "The Earth’s internal heat comes from a combination of residual heat from planetary accretion (the initial building stage of the planets) and heat produced through radioactive decay. This heat propogates outward from the core to the mantle and crust through convection and conduction processes.\n",
    "\n",
    "Earth isn't the only body with geothermal gradients! All of the terrestrial planets have residual heat from accretion and radioactive sources (although Mercury and the Moon seem to pretty pretty cooled off and not geologically active at this point; but small temperature gradients still exist). For simplicity sake, we will use the term 'geotherm' on all of these bodies to represent temperature gradients with depth. See the image below for a couple of examples of planetary interiors."
   ]
  },
  {
   "cell_type": "markdown",
   "metadata": {},
   "source": [
    "<center><img src=\"earthmarsmoon_interiors.png\" width=\"600\" height=\"500\"><center/>"
   ]
  },
  {
   "cell_type": "markdown",
   "metadata": {},
   "source": [
    "**Linear geotherm** With no radioactive or convective sources, the simplest geotherm is the linear geotherm. When considering geotherms on other planets, this is the most realistic estimation we can use because the interiors of other planets is not well known.\n",
    "$$ T = T_s + \\frac{Q_m}{k}z $$\n",
    "Temperature ($T [K]$) increases linearly with depth ($z [m]$) into the Earth at a rate governed by the heat flux  from  the  mantle ($Q_m$, [$mW/m^2$]) and  the  local  thermal  conductivity ($k$ $[W/mK]$) relative to the surface temperature for a given location ($T_s [K]$). Units are denoted in brackets [ ].\n",
    "\n",
    "Here's an example of the Earth's geotherm, you can notice different linear geotherm segments based on the interior layer.\n",
    "\n",
    "<center><img src=\"geotherm_earth.png\" width=\"400\" height=\"400\"><center/>\n",
    "\n",
    "For the purposes of this exercise, we will use our linear geotherm equation to investigate geothermal gradients on Earth and other planets. \n",
    "    \n",
    "    "
   ]
  },
  {
   "cell_type": "markdown",
   "metadata": {},
   "source": [
    "### Example: investigate the linear geotherm on Earth and then for the Moon\n",
    "Let's consider we want to estimate the geotherm from the surface down to 10 km beneath the Earth's surface. For this scenario, suppose the following is true: \n",
    "$Q_m$=50 mW/m2, $k$ = 2 W/m-K, and $T_s$ = 15°C. "
   ]
  },
  {
   "cell_type": "code",
   "execution_count": null,
   "metadata": {},
   "outputs": [],
   "source": [
    "# import the necessary libraries\n",
    "from matplotlib import pyplot as pl\n",
    "import math\n",
    "import numpy as np\n",
    "\n",
    "# let's define our known constants\n",
    "q_m = 50 # mW/m2; note the milli-watts!\n",
    "k   = 2  # W/mK\n",
    "t_s = 15 # degrees C\n",
    "\n",
    "# next, let's build a numpy array of depths from z = 0 (surface) to z = 10 km\n",
    "zs = np.arange(0,11000,1000) # depths in meters\n",
    "\n",
    "# now, using the linear geotherm equation, we can compute the expected temperature for each depth\n",
    "q_m        = q_m/1000             # but first we need to convert q_m to be in W/m2!\n",
    "t_by_depth = t_s + q_m/k * zs     # using the linear geotherm equation and defined variables, arrays\n",
    "t_by_depth"
   ]
  },
  {
   "cell_type": "markdown",
   "metadata": {},
   "source": [
    "Of course, on Earth we would need to acount for the effects of radioactive and convective heating sources with depth. But on the Moon, there are few-to-no additional heat transport mechanisms beyond conduction, so the linear geotherm equation will work well. \n",
    "\n",
    "Now, suppose we define the Lunar layers as such: "
   ]
  },
  {
   "cell_type": "code",
   "execution_count": null,
   "metadata": {},
   "outputs": [],
   "source": [
    "lunar_crust_depth  = 45     # 0 to 45 km\n",
    "lunar_mantle_depth = 1500   # 45 to 1500 km\n",
    "lunar_core_depth   = 1737   # 1500 to 1737 km"
   ]
  },
  {
   "cell_type": "markdown",
   "metadata": {},
   "source": [
    "<img src=\"https://www.lpi.usra.edu/lunar/missions/apollo/apollo_15/images/heat_flow_lg.gif\" style=\"float:right;width:200px;height:200px;\"/>\n",
    "<p>The Apollo 15 and 17 astronauts conducted heat flow experiments on the moon to determine the heat flux from the mantle, or $Q_{m,moon}$. They drilled holes into the regolith to depths of 1.6 to 2.3 meters and measured the temperature at several depths within the holes. The results of these measurements indicate a heat flow of 21 milliwatts per square meter at the Apollo 15 landing site and of 16 milliwatts per square meter at the Apollo 17 landing site. The small value of the lunar heat flow was expected, given the Moon's small size and the observation that it has been nearly dead volcanically for the last 3 billion years.</p>\n",
    "\n",
    "Some additional useful information is that the average surface temperature on the moon ($t_{s,moon}$) is 107°C in sunlight (13.5 days) followed by 13.5 days at -233°C. For the purposes of this exercise, please use the sunlit temperature average. Additionally, the dominant crustal material on the moon is basalt; basalt has a thermal conductivity ($k$) of appx. 0.035 W/mK."
   ]
  },
  {
   "cell_type": "code",
   "execution_count": null,
   "metadata": {},
   "outputs": [],
   "source": [
    "# now we can use the linear geotherm equation with the moon constants\n",
    "q_m_moon = 18      # mW/m2; 18 being the middle point between the apollo 15 and 17 measurements\n",
    "t_s_moon = 107     # degrees C\n",
    "k_basalt = 0.035   # W/mK\n",
    "\n",
    "z_array_moon    = np.arange(0,1800,10) # depth in km\n",
    "t_by_depth_moon = t_s_moon + (q_m_moon/1000)/k_basalt * z_array_moon # geothermal temperature in C\n",
    "\n",
    "# here is a plotted profile:\n",
    "pl.plot(t_by_depth_moon, -1*z_array_moon) # I have multipled by -1 to visualize this is DEPTH (going down from the surface)\n",
    "pl.title(\"Lunar temperature profile\")\n",
    "pl.xlabel(\"Temperature [degrees C]\")\n",
    "pl.ylabel(\"Depth []\");"
   ]
  },
  {
   "cell_type": "markdown",
   "metadata": {},
   "source": [
    "Let's explore the temperature profile of the lunar core and the use of ***'for loops'*** and ***'if logic'*** in Python:"
   ]
  },
  {
   "cell_type": "code",
   "execution_count": null,
   "metadata": {},
   "outputs": [],
   "source": [
    "for z in z_array_moon:\n",
    "    # here we use boolean logic to check if the depth is in the core, if not, ignore and keep checking\n",
    "    if z > 1500:  # the depth boundary for the core in km\n",
    "        t = t_s_moon + (q_m_moon/1000)/k_basalt * z   # compute using linear geotherm\n",
    "        print(\"The predicted crustal temperature at {} km, is {:0.2f} degrees C\".format(z,t))"
   ]
  },
  {
   "cell_type": "markdown",
   "metadata": {},
   "source": [
    "Great, and what about the temperature profile for the crust? This time, we will explore the use of a python ***'while loop'***:"
   ]
  },
  {
   "cell_type": "code",
   "execution_count": null,
   "metadata": {},
   "outputs": [],
   "source": [
    "z = 0\n",
    "# here we use a while loop to check that the depth is in the crust, if not, stop the loop\n",
    "while z < 45: # while the depth is less than 45 km, the crust depth limit\n",
    "    t = t_s_moon + (q_m_moon/1000)/k_basalt * z # compute using linear geotherm\n",
    "    print(\"The predicted core temperature at {} km, is {:0.2f} degrees C\".format(z,t))\n",
    "    z += 5 # incrementally increase the depth by 5 km"
   ]
  },
  {
   "cell_type": "markdown",
   "metadata": {},
   "source": [
    "Now that you've seen some examples, let's practice some more:"
   ]
  },
  {
   "cell_type": "markdown",
   "metadata": {},
   "source": [
    "### Questions"
   ]
  },
  {
   "cell_type": "markdown",
   "metadata": {},
   "source": [
    "1. What do each of the terms mean in the linear geotherm equation and what are their units. Knowing this, why do we not have to convert surface temperature to Kelvin (meaning we can compute the temperature for a given depth with a surface temp input in centigrade)? "
   ]
  },
  {
   "cell_type": "markdown",
   "metadata": {},
   "source": [
    "Please type your response here."
   ]
  },
  {
   "cell_type": "markdown",
   "metadata": {},
   "source": [
    "2. Use the information in the example to compute the temperature range for the Moon's mantle."
   ]
  },
  {
   "cell_type": "code",
   "execution_count": null,
   "metadata": {},
   "outputs": [],
   "source": [
    "# input your response using code here"
   ]
  },
  {
   "cell_type": "markdown",
   "metadata": {},
   "source": [
    "3. Plot the temperature profile for all three layers of the moon (crust, mantle, core) and determine it's slope. This is the geotherm. (*hint: follow this\n",
    "__[link](https://moonbooks.org/Articles/How-to-calculate-the-slope-and-the-intercept-of-a-straight-line-with-python-/)__ )"
   ]
  },
  {
   "cell_type": "code",
   "execution_count": null,
   "metadata": {},
   "outputs": [],
   "source": [
    "# plot Q3 here and determine slope using code here "
   ]
  },
  {
   "cell_type": "markdown",
   "metadata": {},
   "source": [
    "4. Why is the linear geotherm not sufficient for predicitng temperatures within Earth's interior?"
   ]
  },
  {
   "cell_type": "markdown",
   "metadata": {},
   "source": [
    "Please type your response here."
   ]
  }
 ],
 "metadata": {
  "kernelspec": {
   "display_name": "Python 3",
   "language": "python",
   "name": "python3"
  },
  "language_info": {
   "codemirror_mode": {
    "name": "ipython",
    "version": 3
   },
   "file_extension": ".py",
   "mimetype": "text/x-python",
   "name": "python",
   "nbconvert_exporter": "python",
   "pygments_lexer": "ipython3",
   "version": "3.7.7"
  }
 },
 "nbformat": 4,
 "nbformat_minor": 4
}
