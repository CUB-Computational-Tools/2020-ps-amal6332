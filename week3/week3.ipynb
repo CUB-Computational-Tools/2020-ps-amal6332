{
 "cells": [
  {
   "cell_type": "markdown",
   "metadata": {},
   "source": [
    "#### **Geotherms and planetary interiors**\n",
    "##### Author: Amanda Alexander\n",
    "##### Week 3"
   ]
  },
  {
   "cell_type": "markdown",
   "metadata": {},
   "source": [
    "### Learning Goals\n",
    ">1. Define what is a *geotherm* and how it differs on various planets\n",
    "\n",
    ">2. Compute an example geotherm on the terrestrial planets and moon\n",
    "\n",
    ">3. Gain familiarity with *flow control* in python using while and for loops\n",
    "\n",
    ">4. Use *boolean logic* to determine layer boundaries of planetary interiors in computing and plotting geotherms"
   ]
  },
  {
   "cell_type": "markdown",
   "metadata": {},
   "source": [
    "### Prerequisites\n",
    "Students completing this lesson plan should have completed introductory coursework in geology and physics and calculus (CALC I,II) with a passing grade (C- or higher). Concepts that will be encountered that should be familiar involve temperature, pressure, heating with depth (and the associated heat sources: conduction, convection and radioactive decay), gradients, gravity and material properties. Students should have a pre-existing general understanding of the make-up and distinct regions of planetary interiors (crust, mantle, core + aesthenosphere, lithosphere, mesosphere)."
   ]
  },
  {
   "cell_type": "markdown",
   "metadata": {},
   "source": [
    "### Background\n",
    "\n",
    "The **geothermal gradient** is the amount that the Earth’s temperature increases with depth. As one travels from the surface of the Earth inward toward the core, temperatures increase -- these temperatures can reach as high as 5000-7000 degrees in/near the core! \n",
    "\n",
    "The Earth’s internal heat comes from a combination of residual heat from planetary accretion (the initial building stage of the planets) and heat produced through radioactive decay. This heat propogates outward from the core to the mantle and crust through convection and conduction processes.\n",
    "\n",
    "Earth isn't the only body with geothermal gradients! All of the terrestrial planets have residual heat from accretion and radioactive sources (although Mercury and the Moon seem to pretty pretty cooled off and not geologically active at this point; but small temperature gradients still exist). For simplicity sake, we will use the term 'geotherm' on all of these bodies to represent temperature gradients with depth. \n"
   ]
  },
  {
   "cell_type": "markdown",
   "metadata": {},
   "source": [
    "**Linear geotherm** With no radioactive or convective sources, the simplest geotherm is the linear geotherm. When considering geotherms on other planets, this is the most realistic estimation we can use because the interiors of other planets is not well known.\n",
    "$$ T = T_s + \\frac{Q_m}{k}z $$\n",
    "Temperature ($T [K]$) increases linearly with depth ($z [m]$) into the Earth at a rate governed by the heat flux  from  the  mantle ($Q_m$, [$mW/m^2$]) and  the  local  thermal  conductivity ($k$ $[W/mK]$) relative to the surface temperature for a given location ($T_s [K]$). Units are denoted in brackets [ ].\n",
    "\n",
    "For the purposes of this exercise, we will use our linear geotherm equation to investigate geothermal gradients on Earth and other planets. "
   ]
  },
  {
   "cell_type": "markdown",
   "metadata": {},
   "source": [
    "### Example\n",
    "Let's consider we want to estimate the geotherm from the surface down to 10 km beneath the Earth's surface. For this scenario, suppose the following is true: \n",
    "$Q_m$=50 mW/m2, $k$ = 2 W/m-K, and $T_s$ = 15°C. "
   ]
  },
  {
   "cell_type": "code",
   "execution_count": 18,
   "metadata": {},
   "outputs": [
    {
     "data": {
      "text/plain": [
       "array([ 15.,  40.,  65.,  90., 115., 140., 165., 190., 215., 240., 265.])"
      ]
     },
     "execution_count": 18,
     "metadata": {},
     "output_type": "execute_result"
    }
   ],
   "source": [
    "# import the necessary libraries\n",
    "from matplotlib import pyplot as pl\n",
    "import math\n",
    "import numpy as np\n",
    "\n",
    "# let's define our known constants\n",
    "q_m = 50 # mW/m2; note the milli-watts!\n",
    "k   = 2  # W/mK\n",
    "t_s = 15 # degrees C\n",
    "\n",
    "# next, let's build a numpy array of depths from z = 0 (surface) to z = 10 km\n",
    "zs = np.arange(0,11000,1000) # depths in meters\n",
    "\n",
    "# now, using the linear geotherm equation, we can compute the expected temperature for each depth\n",
    "q_m   = q_m/1000             # but first we need to convert q_m to be in W/m2!\n",
    "t_unk = t_s + q_m/k * zs     # using the linear geotherm equation and defined variables, arrays\n",
    "\n",
    "t_unk"
   ]
  },
  {
   "cell_type": "markdown",
   "metadata": {},
   "source": [
    "Of course, on Earth we would need to acount for the effects of radioactive and convective heating sources with depth. But on the Moon, there are few-to-no additional heat transport mechanisms beyond conduction, so the linear geotherm equation will work well. \n",
    "\n",
    "Now, suppose we define the Lunar layers as such: "
   ]
  },
  {
   "cell_type": "code",
   "execution_count": 19,
   "metadata": {},
   "outputs": [],
   "source": [
    "lunar_crust_depth  = 45     # 0 to 45 km\n",
    "lunar_mantle_depth = 1500   # 45 to 1500 km\n",
    "lunar_core_depth   = 1737   # 1500 to 1737 km"
   ]
  },
  {
   "cell_type": "markdown",
   "metadata": {},
   "source": [
    "### Questions"
   ]
  },
  {
   "cell_type": "code",
   "execution_count": null,
   "metadata": {},
   "outputs": [],
   "source": []
  }
 ],
 "metadata": {
  "kernelspec": {
   "display_name": "Python 3",
   "language": "python",
   "name": "python3"
  },
  "language_info": {
   "codemirror_mode": {
    "name": "ipython",
    "version": 3
   },
   "file_extension": ".py",
   "mimetype": "text/x-python",
   "name": "python",
   "nbconvert_exporter": "python",
   "pygments_lexer": "ipython3",
   "version": "3.8.3"
  }
 },
 "nbformat": 4,
 "nbformat_minor": 4
}
