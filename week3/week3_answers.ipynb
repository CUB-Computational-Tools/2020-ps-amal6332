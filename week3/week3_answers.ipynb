{
 "cells": [
  {
   "cell_type": "markdown",
   "metadata": {},
   "source": [
    "#### **Answer key** for *Geotherms and planetary interiors*\n",
    "##### Author: Amanda Alexander\n",
    "##### Week 3"
   ]
  },
  {
   "cell_type": "markdown",
   "metadata": {},
   "source": [
    "**Q1.** What do each of the terms mean in the linear geotherm equation and what are their units. Knowing this, why do we not have to convert surface temperature to Kelvin (meaning we can compute the temperature for a given depth with a surface temp input in centigrade)? "
   ]
  },
  {
   "cell_type": "markdown",
   "metadata": {},
   "source": [
    "*A1.* This is the linear geotherm equation:\n",
    "$$ T = T_s + \\frac{Q_m}{k}z $$\n",
    "Temperature ($T [K]$) increases linearly with depth ($z [m]$) into the Earth at a rate governed by the heat flux  from  the  mantle ($Q_m$, [$mW/m^2$]) and  the  local  thermal  conductivity ($k$ $[W/mK]$) relative to the surface temperature for a given location ($T_s [K]$). Units are denoted in brackets [ ].\n",
    "\n",
    "The units of left side of the equation, $T$, must match the units on the right side of the equation. The second term of the right side ends up being dimensionless, so the only units left to consider are those fo $T_s$. So, if $T_s$ is in Celcius, then the temperature output on the left side for $T$ will also end up being in Celcius."
   ]
  },
  {
   "cell_type": "markdown",
   "metadata": {},
   "source": [
    "**Q2.** Use the information in the example and an 'if', 'while' or 'for' loop to compute the temperature range for the Moon's mantle."
   ]
  },
  {
   "cell_type": "markdown",
   "metadata": {},
   "source": [
    "*A2.* using the following code,"
   ]
  },
  {
   "cell_type": "code",
   "execution_count": 1,
   "metadata": {},
   "outputs": [],
   "source": [
    "# import the necessary libraries\n",
    "from matplotlib import pyplot as pl\n",
    "import math\n",
    "import numpy as np"
   ]
  },
  {
   "cell_type": "code",
   "execution_count": 3,
   "metadata": {},
   "outputs": [],
   "source": [
    "lunar_crust_depth  = 45     # 0 to 45 km\n",
    "lunar_mantle_depth = 1500   # 45 to 1500 km\n",
    "lunar_core_depth   = 1737   # 1500 to 1737 km\n",
    "q_m_moon           = 18     # mW/m2; 18 being the middle point between the apollo 15 and 17 measurements\n",
    "t_s_moon           = 107    # degrees C\n",
    "k_basalt           = 0.035  # W/mK"
   ]
  },
  {
   "cell_type": "code",
   "execution_count": 6,
   "metadata": {},
   "outputs": [],
   "source": [
    "# using if/for, this may look like:\n",
    "\n",
    "z_array_moon    = np.arange(0,1800,10)                 # depth in km\n",
    "for z in z_array_moon:                                 # loop through the lunar depths\n",
    "    if 45 < z < 1737:                                  # defines the mantle region in depth [km]\n",
    "        t = t_s_moon + (q_m_moon/1000)/k_basalt * z    # compute using linear geotherm\n",
    "        \n",
    "# using a while loop this may look like:\n",
    "z = 0\n",
    "while "
   ]
  },
  {
   "cell_type": "markdown",
   "metadata": {},
   "source": [
    "**Q3.** Plot the temperature profile for all three layers of the moon (crust, mantle, core) and determine it's slope. This is the geotherm. (*hint: follow this\n",
    "__[link](https://moonbooks.org/Articles/How-to-calculate-the-slope-and-the-intercept-of-a-straight-line-with-python-/)__ )"
   ]
  },
  {
   "cell_type": "markdown",
   "metadata": {},
   "source": [
    "*A3.* using the following code,"
   ]
  },
  {
   "cell_type": "code",
   "execution_count": 61,
   "metadata": {},
   "outputs": [
    {
     "data": {
      "image/png": "[encoded data removed]",
      "text/plain": [
       "<Figure size 432x288 with 1 Axes>"
      ]
     },
     "metadata": {
      "needs_background": "light"
     },
     "output_type": "display_data"
    }
   ],
   "source": [
    "# here is a plotted profile:\n",
    "fig, ax = pl.subplots()\n",
    "t_by_depth_moon = t_s_moon + (q_m_moon/1000)/k_basalt * z_array_moon # geothermal temperature in C\n",
    "x = t_by_depth_moon\n",
    "y = -1*z_array_moon\n",
    "ax.plot(x,y) # I have multipled by -1 to visualize this is DEPTH (going down from the surface)\n",
    "pl.title(\"Lunar temperature profile\")\n",
    "pl.xlabel(\"Temperature [degrees C]\")\n",
    "pl.ylabel(\"Depth []\")\n",
    "\n",
    "# the following is purely aesthetic, fills regions based on the interior layer\n",
    "pl.fill_between(x, -45, 0, color = 'blue', alpha = 0.4, label='crust')\n",
    "pl.fill_between(x, -1500, -45, color = 'orange', alpha = 0.4, label='mantle')\n",
    "pl.fill_between(x, -1737, -1500, color = 'grey', alpha = 0.4, label='core')\n",
    "pl.legend(loc='right')\n",
    "\n",
    "# now here is how to compute the slope\n",
    "# recall the equation of a line, y=mx+b ... or in this case y=-mx\n",
    "# we need m, the slope so, m=-y/x\n",
    "\n",
    "lunar_geotherm = (y[2]-y[1])/(x[2]-x[1])\n",
    "\n",
    "# an alternative way using numpy:\n",
    "# https://numpy.org/doc/stable/reference/generated/numpy.polyfit.html#numpy.polyfit\n",
    "\n",
    "slope, intercept = np.polyfit(x, y, 1)\n",
    "pl.text(800,-250,'slope = {:0.3f}'.format(slope));"
   ]
  },
  {
   "cell_type": "markdown",
   "metadata": {},
   "source": [
    "**Q4.** Why is the linear geotherm not sufficient for predicitng temperatures within Earth's interior?"
   ]
  },
  {
   "cell_type": "markdown",
   "metadata": {},
   "source": [
    "*A4.* Since the Earth still has significant radioactive and convective heat sources, the linear geotherm equation is not sufficient beyond the first few km in the crust."
   ]
  }
 ],
 "metadata": {
  "kernelspec": {
   "display_name": "Python 3",
   "language": "python",
   "name": "python3"
  },
  "language_info": {
   "codemirror_mode": {
    "name": "ipython",
    "version": 3
   },
   "file_extension": ".py",
   "mimetype": "text/x-python",
   "name": "python",
   "nbconvert_exporter": "python",
   "pygments_lexer": "ipython3",
   "version": "3.7.7"
  }
 },
 "nbformat": 4,
 "nbformat_minor": 4
}
