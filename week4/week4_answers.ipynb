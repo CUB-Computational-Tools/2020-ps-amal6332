{
 "cells": [
  {
   "cell_type": "markdown",
   "metadata": {},
   "source": [
    "### **Answer Key:** Determining the age of meteorites\n",
    "##### Author: Amanda Alexander\n",
    "##### Week 4"
   ]
  },
  {
   "cell_type": "markdown",
   "metadata": {},
   "source": [
    "**Q1.** We have discussed the isochron equation above as being in the form of a straight line. What are the independent and dependent variables of this equation?"
   ]
  },
  {
   "cell_type": "markdown",
   "metadata": {},
   "source": [
    "*A1.* The equation of a straight line is $y = mx + b$ -- here $m$ (the slope) is $(e^{\\lambda t-1})$ and $b$, the y-intercept, is the original strontium isotope ratio ($\\frac{^{87}Sr_{original}}{^{86}Sr}$). In this case, the dependent (y) and independent (x) variables are actually the lab-measured values of $\\frac{^{87}Sr_{now}}{^{86}Sr}$ (y) and $\\frac{^{87}Rb_{now}}{^{86}Sr}$ (x). "
   ]
  },
  {
   "cell_type": "markdown",
   "metadata": {},
   "source": [
    "**Q2.** Suppose we are given another meteorite to analyze (yay!). Given the following information, **define a function to compute the slope (aka isochron) and age of this meteorite using the Rb/Sr decay system**. \n",
    "\n",
    "The meteorite is also from Antarctica and is probably the most famous martian meteorite: ALH 84001. Here is a table of Rb/Sr ratios for carbonates within the meteorite. All ratios are in ppm. There is an initial 87Sr/86Sr ratio of 0.70205 ± 0.00007 (data from Borg et al., 1999). For this exercise, you can ignore the error bars.\n",
    "\n",
    "| Sample| $^{87}$Rb/$^{86}$Sr | $^{87}$Sr/$^{86}$Sr |\n",
    "| ---- | ------- | ------- |\n",
    "|S1\t|  0.2600  ±  13 \t| 0.728746  ±  18 |\n",
    "|S2\t|  0.2096  ±  11 \t| 0.716338  ±  10 |\n",
    "|S3\t|  0.238  ±  12 \t| 0.710308  ±  16 |\n",
    "|S4\t|  0.1172  ±  12\t| 0.708653  ±  11 |\n",
    "|S5\t|  0.2327  ±  11 \t| 0.715125  ±  10 |\n",
    "|S6\t|  2.622  ±  13 \t| 0.850478  ±  42 |\n",
    "|S7\t|  2.391  ±  11  \t| 0.840711  ±  42 |\n",
    "|S8\t|  1.421  ±  60 \t| 0.787570  ±  18 |\n"
   ]
  },
  {
   "cell_type": "markdown",
   "metadata": {},
   "source": [
    "*A2*. I will first pull some code from the example section and then apply it to our new sample:"
   ]
  },
  {
   "cell_type": "code",
   "execution_count": null,
   "metadata": {},
   "outputs": [],
   "source": [
    "# import the necessary libraries\n",
    "from matplotlib import pyplot as pl\n",
    "import math\n",
    "import numpy as np\n",
    "\n",
    "# this is a function to compute the half-life constant, lambda\n",
    "def compute_decay_l(t_half):\n",
    "    \"\"\" \n",
    "    input var: t_half, half-life \n",
    "    outputs: l, lambda constant\n",
    "    library req: numpy as np\n",
    "    \"\"\"\n",
    "    return np.log(2)/t_half\n",
    "\n",
    "# this is a function to compute the age (isochron) for a given input of ratios\n",
    "def compute_isochron(Sr, Rb):\n",
    "    global age\n",
    "    \"\"\"\n",
    "    input: measured values for 87Sr_now/86Sr and 87Rb_now/86Sr, lambda decay constant\n",
    "    outputs:\n",
    "    library req: numpy as np\n",
    "    \"\"\"\n",
    "    l = compute_decay_l(4.9E10)   # calls the function to compute the decay constant for Rb-Sr system, [1/years], \n",
    "    slope = compute_slope(Sr, Rb) # calls the function to compute slope for the defined lists\n",
    "    age = (1/l)*np.log(slope+1)   # computes the age using the equation described in the background section\n",
    "    return age/1E6                # stores the age [Ma] to be called outside of the function\n",
    "\n",
    "# here is an example of how to define a function to compute slope\n",
    "def compute_slope(Sr, Rb):\n",
    "    return (Sr[-1]-Sr[-2])/(Rb[-1]-Rb[-2])   # just using the rise over run method of our data\n"
   ]
  },
  {
   "cell_type": "markdown",
   "metadata": {},
   "source": [
    "*A2, continued.* Next, I will define the data into two lists, Sr and Rb:"
   ]
  },
  {
   "cell_type": "code",
   "execution_count": null,
   "metadata": {},
   "outputs": [],
   "source": [
    "Sr = [0.728746, 0.716338, 0.710308, 0.708653, 0.715125, 0.850478, 0.840711, 0.787570] # in ppm\n",
    "Rb = [0.2600, 0.2096, 0.238, 0.1172, 0.2327, 2.622, 2.391, 1.421]                     # in ppm"
   ]
  },
  {
   "cell_type": "markdown",
   "metadata": {},
   "source": [
    "*A2, continued.* Now, we can compute the slope, plot the data and determine the age:"
   ]
  },
  {
   "cell_type": "code",
   "execution_count": null,
   "metadata": {},
   "outputs": [],
   "source": [
    "# I will first plot the data as a scatter plot\n",
    "p1 = pl.scatter(Rb,Sr)\n",
    "\n",
    "# Now, I will compute the slope and isochron and then plot the line to fit the data in the form y=mx+b\n",
    "slope = compute_slope(Sr, Rb)\n",
    "compute_isochron(Sr, Rb)\n",
    "age_text = \"{:0.2f} Ma\".format(age/1E6)\n",
    "# y = mx+b where x=Sr, m=slope and b=initial 87Sr/86Sr ratio of 0.70205\n",
    "Sr_array = np.array(Sr) # turning this into an array to do math on it\n",
    "y = slope*Sr_array + 0.70205\n",
    "x = Sr\n",
    "\n",
    "# determine best fit line using the numpy polyfit function\n",
    "par = np.polyfit(x, y, 1, full=True)\n",
    "slope=par[0][0]\n",
    "intercept=par[0][1]\n",
    "xl = [min(Rb), max(Rb)]\n",
    "yl = [slope*xx + intercept  for xx in xl]\n",
    "pl.plot(xl, yl, '-r', label=age_text)\n",
    "\n",
    "# Since we have computed the age, we can add that to the plot, along with some other aesthetics \n",
    "pl.title(\"Rb-Sr isotopic data for ALH 84001\")\n",
    "pl.xlabel(r\"$^{87}Rb_{now}/^{86}Sr$\")\n",
    "pl.ylabel(r\"$^{87}Sr_{now}/^{86}Sr$\")\n",
    "pl.legend()"
   ]
  },
  {
   "cell_type": "markdown",
   "metadata": {},
   "source": [
    "**Q3.** Define the half-life equation as a lambda expression."
   ]
  },
  {
   "cell_type": "markdown",
   "metadata": {},
   "source": [
    "*A3.* I will demostrate below how to represent the half life function as a lambda expression ($t_{half} = \\frac{\\ln{2}}{\\lambda}$):"
   ]
  },
  {
   "cell_type": "code",
   "execution_count": null,
   "metadata": {},
   "outputs": [],
   "source": [
    "# a lambda function is typically in the form of something like this:\n",
    "# function = lambda variable: variable * 2\n",
    "\n",
    "# so for half life, where l is the variable (decay constant)\n",
    "t_half = lambda l: (np.log(2)/l)\n",
    "print(\"The half life of 87Rb is {:.3f} billion years!\".format(t_half(1.41E-11)/1E9))"
   ]
  }
 ],
 "metadata": {
  "kernelspec": {
   "display_name": "Python 3",
   "language": "python",
   "name": "python3"
  },
  "language_info": {
   "codemirror_mode": {
    "name": "ipython",
    "version": 3
   },
   "file_extension": ".py",
   "mimetype": "text/x-python",
   "name": "python",
   "nbconvert_exporter": "python",
   "pygments_lexer": "ipython3",
   "version": "3.7.7"
  }
 },
 "nbformat": 4,
 "nbformat_minor": 4
}
