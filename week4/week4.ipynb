{
 "cells": [
  {
   "cell_type": "markdown",
   "metadata": {},
   "source": [
    "#### **Meteorite classification**\n",
    "##### Author: Amanda Alexander\n",
    "##### Week 4"
   ]
  },
  {
   "cell_type": "markdown",
   "metadata": {},
   "source": [
    "### Learning Goals"
   ]
  },
  {
   "cell_type": "markdown",
   "metadata": {},
   "source": [
    "1. Define how to compute the age of a discovered meteorite using radioactive decay\n",
    "2. Compute the age of a martian meteorite using the Rb/Sr decay system\n",
    "3. Define a python function and return values\n",
    "4. Explore use of the lambda/map function in python"
   ]
  },
  {
   "cell_type": "markdown",
   "metadata": {},
   "source": [
    "### Prerequisites"
   ]
  },
  {
   "cell_type": "markdown",
   "metadata": {},
   "source": [
    "*Concept requirements*\n",
    "Students should have been introduced to the general concepts of radioactive decay and be comfortable manipulating algebraic equations (re-arranging and solving for different terms), calculating the slope of a line, and using ratios. It is expected that students already know what a meteorite is.\n",
    "\n",
    "*Programming requirements*\n",
    "A general understanding of the following in python is necessary: importing libraries, plotting straight lines, computing slope, use of dictionaries, lists, numpy arrays and loops. We will introduce functions and mapping. \n"
   ]
  },
  {
   "cell_type": "markdown",
   "metadata": {},
   "source": [
    "### Background"
   ]
  },
  {
   "cell_type": "markdown",
   "metadata": {},
   "source": [
    "*Meteorites* are among the oldest objects in the solar system, having formed early-on around 4.5 billion years ago. But how do we know how old a meteorite is?\n",
    "\n",
    "When determining the age of very old objects, like meteorites, the only suitable mechanism that we have (so far) is the measurement of radioactive decay products. *Isotopes* are atoms of the same element that have different amounts of neutrons. Some isotopes are stable, while others are radioactive and decay into other components called *daughter* isotopes.\n",
    "\n",
    "#### Quick refresher: What is radioactive decay? \n",
    "**Radioactive decay** is the term used to describe the process by which an unstable atom loses energy to its surrounding environment. With radioactive decay, the nucleus of the atom changes from a parent nuclide to a daughter nuclide.  Radioactive isotopes decay according to a **power law** and the amount of time it takes the element to lose half of its radioactive atoms is termed an element's **half-life**. The amount of time it will take differs depending on the element.\n",
    "\n",
    "**Radioactive decay law**:\n",
    "$$ N(t) = N_{0}*e^{-\\lambda t}$$\n",
    "where $N(t)$ is the # of radioactive atoms at time $t$, $N_0$ is the initial # of radioactive atoms at time zero, $\\lambda$ is the decay constant\n",
    "\n",
    "**Half-life equation**:\n",
    "$$t_{half} = \\frac{\\ln{2}}{\\lambda}$$\n",
    "\n",
    "\n"
   ]
  },
  {
   "cell_type": "markdown",
   "metadata": {},
   "source": [
    "#### What isotopes are useful in dating meteorites?\n",
    "We typically look to the decay of Rubidium ($^{87}Rb$) into Strontium ($^{87}Sr$), which has a half-life of 49 billion years. Here is a quick and dirty derivation. Don't spend too much effort in understanding this right now, but we want to briefly explore how we end up with the equation we will use to calculate ages in the example section. Age is  determined by calculating ratios of these isotopes:\n",
    "\n",
    "$$^{87}Sr_{now} = ^{87}Sr_{original} + (^{87}Rb_{original} - ^{87}Rb_{now})$$\n",
    "\n",
    "The term in partenthesis can be substituted using the radioactive decay law:\n",
    "$$^{87}Rb_{original} = ^{87}Rb_{now}*e^{\\lambda t}$$\n",
    "\n",
    "Putting this back into the first equation, we get:\n",
    "$$^{87}Sr_{now} = ^{87}Sr_{original} + ^{87}Rb_{now}*e^{\\lambda t-1}$$\n",
    "\n",
    "Finally, we must compare the decaying isotopes to a constant (stable) isotope. $^{86}Sr$ is the stable isotope used for comparison in meteorites (and rocks on Earth, too). Using the above equation, we simply divide by the expected amount of $^{86}Sr$,\n",
    "\n",
    "**isochron equation:**\n",
    "$$\\frac{^{87}Sr_{now}}{^{86}Sr} = \\frac{^{87}Sr_{original}}{^{86}Sr} + \\frac{^{87}Rb_{now}}{^{86}Sr}*e^{\\lambda t-1}$$\n",
    "\n",
    "It might be hard to recognize, but this is simply the equation of a line in the form $ y = mx+b$ where $m$ (the slope) is $(e^{\\lambda t-1})$ and $b$, the y-intercept, is the original strontium isotope ratio ($\\frac{^{87}Sr_{original}}{^{86}Sr}$). \n",
    "\n",
    "In the lab, using a *mass spectrometer*, we could measure $\\frac{^{87}Sr_{now}}{^{86}Sr}$ and $\\frac{^{87}Rb_{now}}{^{86}Sr}$. By taking samples and measurements from meteorite bits, we can plot the results and the data should fall on a straight line whose slope characterizes the age of the meteorite. This line (slope, the age) is called the **isochron**. The image below is an example isochron from a real martian meteorite!\n",
    "\n",
    "<center><img src=\"isochron.gif\" width=\"400\" height=\"400\"><center/>"
   ]
  },
  {
   "cell_type": "markdown",
   "metadata": {},
   "source": [
    "### Example"
   ]
  },
  {
   "cell_type": "markdown",
   "metadata": {},
   "source": [
    "<img src=\"ansmet.jpg\" style=\"float:right;width:200px;height:200px;\"/>\n",
    "<p>The Antarctic Search for Meteorites program (ANSMET) is a US-led field project that recovers meteorite specimens from Antarctica. Since 1976, more than 22,000 specimens have been discovered from the exposed surfaces along the Transantarctic Mountains. Finding these meteorites is important because they serve as a reliable, continuous source of new, non-microscopic extraterrestrial material and support thousands of scientists from around the globs as they seek essential “ground-truth” concerning the materials that make up the asteroids, planets and other bodies of our solar system.<p/>\n",
    "\n",
    "Let's imagine we have acquired one of the ANSMET-discovered meteorites and we want to find out how old it is."
   ]
  },
  {
   "cell_type": "markdown",
   "metadata": {},
   "source": [
    "#### First, let's import any necessary library and define some functions using the equations listed in the background,"
   ]
  },
  {
   "cell_type": "code",
   "execution_count": 2,
   "metadata": {},
   "outputs": [],
   "source": [
    "# import the necessary libraries\n",
    "from matplotlib import pyplot as pl\n",
    "import math\n",
    "import numpy as np"
   ]
  },
  {
   "cell_type": "code",
   "execution_count": 24,
   "metadata": {},
   "outputs": [],
   "source": [
    "# here's an example of how to define a function\n",
    "def function_name(variable):\n",
    "    return variable * 2\n",
    "\n",
    "# and here's how the same function could be written as a lambda expression\n",
    "function = lambda variable: variable * 2\n",
    "\n",
    "# this is a function to compute the half-life constant, lambda\n",
    "def compute_t_half():\n",
    "    \"\"\" \n",
    "    input var: t_half, half-life \n",
    "    outputs: l, lambda constant\n",
    "    library req: numpy as np\n",
    "    \"\"\"\n",
    "    l = t_half*np.log(2)\n",
    "    return l\n",
    "\n",
    "# this is a function to compute the age (isochron) for a given input of ratios\n",
    "def compute_isochron():\n",
    "    \"\"\"\n",
    "    input: measured values for 87Sr_now/86Sr and 87Rb_now/86Sr, lambda decay constant\n",
    "    outputs:\n",
    "    library req: numpy as np\n",
    "    \"\"\"\n",
    "    l = 1.39E-11                                                    # decay constant for Rb-Sr system, [1/years]\n",
    "    slope = (Sr87_Sr86[2]-Sr87_Sr86[1])/(Rb87_Sr86[2]-Rb87_Sr86[1]) # just using the rise over run method of our data\n",
    "    age = (1/l)*np.log(slope+1)\n",
    "    return age"
   ]
  },
  {
   "cell_type": "markdown",
   "metadata": {},
   "source": [
    "Now that we have defined the functions, lets get the necessary info to find out how old our meteorite is. \n",
    "\n",
    "Martian meteorite EETA 79001 was found on January 13, 1980 in Elephant Moraine, Antarctica. It is the second largest Mars meteorite ever found and was the first of the season to be discovered. The following data was manufactured for this exercise, but represents the actual estimated age of this meteorite (within XXX million years). "
   ]
  },
  {
   "cell_type": "code",
   "execution_count": 27,
   "metadata": {},
   "outputs": [
    {
     "name": "stdout",
     "output_type": "stream",
     "text": [
      "0.01834445556582409\n"
     ]
    }
   ],
   "source": [
    "# here is the manufacted data, ratios of measured 87Sr and 87Rb relative to 86Sr\n",
    "\n",
    "Sr87_Sr86 = [0.7121, 0.7125, 0.7130, 0.7129, 0.7128, 0.7135, 0.7131, 0.7125] # in ppm\n",
    "Rb87_Sr86 = [0.09, 0.14, 0.22, 0.26, 0.21, 0.39, 0.31, 0.19]                 # in ppm\n",
    "\n",
    "print(compute_isochron())"
   ]
  },
  {
   "cell_type": "markdown",
   "metadata": {},
   "source": [
    "### Questions"
   ]
  },
  {
   "cell_type": "markdown",
   "metadata": {},
   "source": [
    "1. From the isochron equation, we discuss it being in the form of a straight line. What are the independent and dependent variables of this equation?"
   ]
  },
  {
   "cell_type": "markdown",
   "metadata": {},
   "source": []
  },
  {
   "cell_type": "markdown",
   "metadata": {},
   "source": [
    "2. Define a function to compute the slope of the isochron equation $(e^{\\lambda t-1})$."
   ]
  },
  {
   "cell_type": "code",
   "execution_count": null,
   "metadata": {},
   "outputs": [],
   "source": []
  },
  {
   "cell_type": "markdown",
   "metadata": {},
   "source": [
    "3. Define the half-life equation as a lambda expression."
   ]
  },
  {
   "cell_type": "code",
   "execution_count": null,
   "metadata": {},
   "outputs": [],
   "source": []
  },
  {
   "cell_type": "markdown",
   "metadata": {},
   "source": [
    "4. Given the following information, plot the isochron and compute the slope (age) of this meteorite. "
   ]
  },
  {
   "cell_type": "code",
   "execution_count": null,
   "metadata": {},
   "outputs": [],
   "source": []
  }
 ],
 "metadata": {
  "kernelspec": {
   "display_name": "Python 3",
   "language": "python",
   "name": "python3"
  },
  "language_info": {
   "codemirror_mode": {
    "name": "ipython",
    "version": 3
   },
   "file_extension": ".py",
   "mimetype": "text/x-python",
   "name": "python",
   "nbconvert_exporter": "python",
   "pygments_lexer": "ipython3",
   "version": "3.7.7"
  }
 },
 "nbformat": 4,
 "nbformat_minor": 4
}
