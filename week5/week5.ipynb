{
 "cells": [
  {
   "cell_type": "markdown",
   "metadata": {},
   "source": [
    "### Week 5 Assignment: re-do of week 2 in R\n",
    "#### Author: Amanda Alexander"
   ]
  },
  {
   "cell_type": "markdown",
   "metadata": {},
   "source": [
    "### Learning Goals\n",
    "1. Practice using numpy arrays, pandas dataframes and basic plotting with R\n",
    "2. Familiarize with the concept of escape velocity and compute it for each planet in the Solar System\n",
    "3. Visualize the effect of mass and distance from a gravitational source and the velocity needed to escape\n",
    "4. Determine the escape velocity needed to leave the Solar System"
   ]
  },
  {
   "cell_type": "markdown",
   "metadata": {},
   "source": [
    "### Background\n",
    "**Escape velocity** is the minimum velocity which an object must have in order to escape the *gravitational influence* of a particular planet or other object. \n",
    "\n",
    "**Gravity** is the force pulling together all matter. The more matter, the more gravity, so things that have a lot of matter such as planets and moons and stars pull more strongly. The strength of gravity also depends how close you are to the massive source (and the further away you are, the weaker the gravitational influence). \n",
    "\n",
    "**Mass** is the measure of the amount of matter in something. The more massive something is, the more of a gravitational pull it exerts. Here on Earth, as we walk on the surface, the Earth pulls on us AND we pull back on the Earth! But since the Earth is so much more massive, the pull from us is not strong enough to move the Earth.\n",
    "\n",
    "Mathematically, escape velocity is derived from the concept that if the *kinetic energy* of an object launched was equal in magnitude to the *gravitational potential energy*, then in the absence of friction resistance it could escape from the Earth.\n",
    "\n",
    "**Kinetic energy** is the measure of a mass in motion. The more massive something is, and the faster it is moving -- the more kinetic energy it will have. Kinetic energy is measured in units of \n",
    "$$ KE = \\frac{1}{2}mv^2$$\n",
    "\n",
    "**Gravitational potential energy** is the measure of the gravitational influence on a mass near another more massive object. To visualize this, let's consider how the Earth experiences gravitational potential energy from the Sun. The amount of gravitational potential energy the Earth has depends on the mass of the Earth, the mass of the Sun, and the distance from the Earth to the Sun. If the Earth were smaller and farther away (like Mars for example), then it would have less gravitational potential energy. *Note: M is the mass of the larger body (to escape from), and m is the mass of the smaller body (the one doing the escaping) and since m <<< M, m+M is essentially equal to M*\n",
    "\n",
    "$$ GPE = \\frac{GMm}{r} $$\n",
    "\n",
    "Kinetic and gravitational potential energy are measured in units of $joules$ (or $ \\left[\\frac{kg⋅m^2}{s^{−2}}\\right]$ in SI units).\n",
    "\n",
    "By setting the two equal, we can solve for the velocity. Velocity is measured in units of $m/s$. \n",
    "\n",
    "$$ V_{esc} = \\sqrt{\\frac{2GM}{r}}$$\n",
    "\n",
    "where $M$ is the mass of the body to escape, $G$ is Newton's gravitational constant and $r$ is the distance from the center of mass of the body creating a gravitational influence. "
   ]
  },
  {
   "cell_type": "markdown",
   "metadata": {},
   "source": [
    "<center><img src=\"aa_escape_vel_sketch.png\" width=600 height =600/><center/>"
   ]
  },
  {
   "cell_type": "markdown",
   "metadata": {},
   "source": [
    "### Example\n",
    "Since escape velocity depends on the mass of and distance from the object of gravitational influence we are trying to escape, let's consider how much easier it is to escape the Earth versus the Sun. \n",
    "\n",
    "For reference, the mass of the sun ($M_{sun}$) is $1.989 × 10^{30} kg$, the mass of the Earth ($M_{earth}$) is $5.972 × 10^{24} kg$ and Newton's gravitational constant ($G$) is $6.674×10^{-11} \\frac{m^3}{kg^1s^2}$. The distance to the Sun's center from Earth ($r_{sun}$) is $1.496x10^{11} m$ and the distance to Earth's center from Earth's surface ($r_{earth}$) is $6.371 x 10^6 m$."
   ]
  },
  {
   "cell_type": "code",
   "execution_count": 7,
   "metadata": {},
   "outputs": [
    {
     "ename": "ERROR",
     "evalue": "Error in parse(text = x, srcfile = src): attempt to use zero-length variable name\n",
     "output_type": "error",
     "traceback": [
      "Error in parse(text = x, srcfile = src): attempt to use zero-length variable name\nTraceback:\n"
     ]
    }
   ],
   "source": [
    "```{r setup, message=FALSE}\n",
    "# load tidyverse including packages tibble, dplyr and ggplot\n",
    "library(tidyverse)\n",
    "knitr::opts_chunk$set(comment = \"#>\")\n",
    "```"
   ]
  },
  {
   "cell_type": "code",
   "execution_count": 2,
   "metadata": {},
   "outputs": [
    {
     "name": "stdout",
     "output_type": "stream",
     "text": [
      "[1] 2\n"
     ]
    }
   ],
   "source": [
    "# Now, let's illustrate the influence of distance from gravitational influence and escape velocity\n",
    "# Let's make a pretend array of distances (in meters)\n",
    "distance_array = np.linspace(1000, 1E6, 20) # from 1000 m to 1 million m in 20 steps\n",
    "print(distance_array)\n",
    "\n",
    "# Let's set a mass constant so that only distance is changing\n",
    "mass = 6E24 # [kg]\n",
    "\n",
    "# Compute the escape velocity for each distance point in the array\n",
    "G              = 6.67E-11                                  # Newton's gravitational constant [m3/kgs2]\n",
    "escape_v_array = np.sqrt((2*G*mass)/distance_array) /1000  # converted to km/s\n",
    "\n",
    "# We can make a quick plot to show the relationship\n",
    "plt.plot(distance_array/1000, escape_v_array)\n",
    "plt.xlabel('distance from center of mass [km]')\n",
    "plt.ylabel('escape velocity [km/s]')\n",
    "plt.title(\"relationship between escape velocity and distance (an inverse square-root)\")"
   ]
  },
  {
   "cell_type": "code",
   "execution_count": null,
   "metadata": {},
   "outputs": [],
   "source": []
  }
 ],
 "metadata": {
  "kernelspec": {
   "display_name": "R",
   "language": "R",
   "name": "ir"
  },
  "language_info": {
   "codemirror_mode": "r",
   "file_extension": ".r",
   "mimetype": "text/x-r-source",
   "name": "R",
   "pygments_lexer": "r",
   "version": "4.0.2"
  }
 },
 "nbformat": 4,
 "nbformat_minor": 4
}
