{
 "cells": [
  {
   "cell_type": "markdown",
   "metadata": {},
   "source": [
    "## Answer Key for\n",
    "#### \"Escape Velocity: how to leave the Earth.... and the Solar System\"\n",
    "Author: Amanda Alexander"
   ]
  },
  {
   "cell_type": "markdown",
   "metadata": {},
   "source": [
    "**Q1.** Print the contents of the solar system data file \"ss_data.csv\" using the pandas dataframe (df). Then, print only the information relevant to the Earth and the Sun."
   ]
  },
  {
   "cell_type": "markdown",
   "metadata": {},
   "source": [
    "*A1.* I will first copy the code from the example to import and establish the dataframe. Then, I will show here how to print its contents."
   ]
  },
  {
   "cell_type": "code",
   "execution_count": null,
   "metadata": {},
   "outputs": [],
   "source": [
    "# copied from example section\n",
    "import numpy as np\n",
    "from matplotlib import pyplot as pl\n",
    "import math\n",
    "import pandas as pd\n",
    "print(pd.__version__)\n",
    "df = pd.read_csv(\"ss_data.csv\")"
   ]
  },
  {
   "cell_type": "code",
   "execution_count": null,
   "metadata": {},
   "outputs": [],
   "source": [
    "# here is how to access the contents of the dataframe\n",
    "# this will print the entire dataframe, since this one is small -- it is not too hard to read\n",
    "print(df)\n",
    "\n",
    "#alternatively, in jupyter, we can just do the following and run the cell for a nice table output. Run this cell and compare.\n",
    "df\n",
    "\n",
    "# this will print the columns names (headers)\n",
    "print(df.columns)\n",
    "\n",
    "# this will print all relevant info for the sun only\n",
    "print(df.loc[0])\n",
    "\n",
    "# and this will print all relevant info for the earth only\n",
    "print(df.loc[3])"
   ]
  },
  {
   "cell_type": "markdown",
   "metadata": {},
   "source": [
    "**Q2.** Compute the escape velocity for each body is ss_data.csv and print"
   ]
  },
  {
   "cell_type": "markdown",
   "metadata": {},
   "source": [
    "**A2.** here is a method using dataframes to compute all escape velocities in the csv"
   ]
  },
  {
   "cell_type": "code",
   "execution_count": null,
   "metadata": {},
   "outputs": [],
   "source": [
    "G = 6.67E-11 # Newton's gravitational constant [m3/kgs2]\n",
    "\n",
    "# We can use the iterrows function of pandas to iterate through the data\n",
    "for index, row in df.iterrows():\n",
    "    body = row.body\n",
    "    r = row.r                              # radius in m\n",
    "    m = row.m                              # mass in kg\n",
    "    esc_v = math.sqrt((2*G*m)/r) /1000     # converted to km/s\n",
    "    print(\"The escape velocity of {} is {:0.3f} km/s\".format(body,esc_v))\n",
    "     "
   ]
  },
  {
   "cell_type": "markdown",
   "metadata": {},
   "source": [
    "**Q3.** Plot the escape velocity for each body in ss_data.csv as a function of mass and then as a function of radius"
   ]
  },
  {
   "cell_type": "markdown",
   "metadata": {},
   "source": [
    "**A3.** here is a method how to plot the escape velocities computed in Q2."
   ]
  },
  {
   "cell_type": "code",
   "execution_count": null,
   "metadata": {},
   "outputs": [],
   "source": [
    "# first, let's save the escape velocities as a list\n",
    "esc_vs = []\n",
    "fig = plt.figure()\n",
    "ax = plt.gca()\n",
    "\n",
    "for index, row in df.iterrows():\n",
    "    body = row.body\n",
    "    r = row.r                              # radius in m\n",
    "    m = row.m                              # mass in kg\n",
    "    esc_v = math.sqrt((2*G*m)/r) /1000     # converted to km/s\n",
    "    esc_vs.append(esc_v)\n",
    "    plt.annotate(body, (m/10E24, esc_v+1), xytext=(5, 2), textcoords='offset points',\n",
    "                    rotation=90, ha='left', va='bottom') # this will add labels to the points\n",
    "\n",
    "# now we plot the data by mass\n",
    "ax.scatter(df.m/10E24, esc_vs) # x=masses, divided by 10^24 (to scale to the earth); y=velocities\n",
    "ax.set_xscale('log') # log scale makes it easier to see points\n",
    "ax.set_ylim([0,75])\n",
    "plt.ylabel('escape velocity [km/s]')\n",
    "plt.xlabel('mass of body x 10E24 [kg]')\n",
    "plt.title(\"escape velocities for major solar system bodies by mass\")\n",
    "\n",
    "# notice how the labels for earth and venus as well as uranus and neptune tend to be on top of one another?\n",
    "# that's because each of these planet pairs are so similar in mass and size!"
   ]
  },
  {
   "cell_type": "code",
   "execution_count": null,
   "metadata": {},
   "outputs": [],
   "source": [
    "# now for the second part of the question\n",
    "# again, first, let's save the escape velocities as a list\n",
    "esc_vs = []\n",
    "fig = plt.figure()\n",
    "ax = plt.gca()\n",
    "\n",
    "for index, row in df.iterrows():\n",
    "    body = row.body\n",
    "    r = row.r                              # radius in m\n",
    "    m = row.m                              # mass in kg\n",
    "    esc_v = math.sqrt((2*G*m)/r) /1000     # converted to km/s\n",
    "    esc_vs.append(esc_v)\n",
    "    plt.annotate(body, (r/1000, esc_v+1), xytext=(3, 3), textcoords='offset points',\n",
    "                    rotation=90, ha='center', va='bottom') # this will add labels to the points\n",
    "\n",
    "# now we plot the data by radius\n",
    "ax.scatter(df.r/1000, esc_vs) # x=distance, divided by 1000 (to scale to km); y=velocities\n",
    "ax.set_xscale('log') # log scale makes it easier to see points\n",
    "ax.set_ylim([0,80])\n",
    "plt.ylabel('escape velocity [km/s]')\n",
    "plt.xlabel('radius of body [km]')\n",
    "plt.title(\"escape velocities for major solar system bodies by size\")\n",
    "\n",
    "# notice how the labels for earth and venus as well as uranus and neptune tend to be on top of one another?\n",
    "# that's because each of these planet pairs are so similar in mass and size!"
   ]
  },
  {
   "cell_type": "markdown",
   "metadata": {},
   "source": [
    "**Q4.** What do you think is the escape velocity for the solar system? Hint: you have already computed it. "
   ]
  },
  {
   "cell_type": "markdown",
   "metadata": {},
   "source": [
    "**A4.** Since the Sun is the central mass, the gravity of the Sun is what needs to be overcome in order to escape the solar system, therefor the escape velocity from the solar system is the same as the escape velocity of the Sun (~42 km/s*) \n",
    "\n",
    "*& yes, I do recognize the humor that the answer is 42 :)*"
   ]
  },
  {
   "cell_type": "markdown",
   "metadata": {},
   "source": [
    "The End!"
   ]
  },
  {
   "cell_type": "code",
   "execution_count": null,
   "metadata": {},
   "outputs": [],
   "source": []
  }
 ],
 "metadata": {
  "kernelspec": {
   "display_name": "Python 3",
   "language": "python",
   "name": "python3"
  },
  "language_info": {
   "codemirror_mode": {
    "name": "ipython",
    "version": 3
   },
   "file_extension": ".py",
   "mimetype": "text/x-python",
   "name": "python",
   "nbconvert_exporter": "python",
   "pygments_lexer": "ipython3",
   "version": "3.7.7"
  }
 },
 "nbformat": 4,
 "nbformat_minor": 4
}
