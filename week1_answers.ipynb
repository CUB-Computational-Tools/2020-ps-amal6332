{
 "cells": [
  {
   "cell_type": "markdown",
   "metadata": {},
   "source": [
    "### Answer Key for problem set: Impacts!\n",
    "Author: Amanda Alexander"
   ]
  },
  {
   "cell_type": "markdown",
   "metadata": {},
   "source": [
    "#### 1. What are the three stages of crater formation? Which phase is the shortest? What causes timescales to vary during the modification stage?"
   ]
  },
  {
   "cell_type": "markdown",
   "metadata": {},
   "source": [
    "The three stages of crater formation are: **Contact & Compression, Excavation and Modification**\n",
    "The shortest phase is **Contact & Compression**\n",
    "Timescales vary during the Modification phase due to the **gravity of the target and the size of the crater**"
   ]
  },
  {
   "cell_type": "markdown",
   "metadata": {},
   "source": [
    "#### 2. Why would an impact event on Earth occur with a higher impact velocity than on Mars (hint: there is more than 1 reason, neglect the atmosphere)?"
   ]
  },
  {
   "cell_type": "markdown",
   "metadata": {},
   "source": [
    "Impacts onto Earth occur at higher velocities because the **Earth is closer to the Sun** (object is accelerated by the Sun's gravity more) **AND because the Earth itself is larger than Mars** (accelerating the object by the Earth's gravity more than Mars')."
   ]
  },
  {
   "cell_type": "markdown",
   "metadata": {},
   "source": [
    "#### 3. Use Equation 1 to calculate the final crater diameter for the following scenario (you may need to look up some constants!):\n",
    "\n",
    "A 500 m iron projectile made it through the Earth's atmosphere and will impact the Columbia River Basalt field in Eastern Washington State head-on (hint: $\\theta$=90 deg) at a velocity of 15 km/s. Let $D_{sc}$ = 3 in this scenario on Earth. "
   ]
  },
  {
   "cell_type": "code",
   "execution_count": null,
   "metadata": {},
   "outputs": [],
   "source": [
    "# Approaches may vary\n",
    "import math\n",
    "\n",
    "# create a dictionary to hold all Earth-relevant info\n",
    "earth_dict = dict()\n",
    "earth_dict['earth_g']    = 9.8      # m/s2\n",
    "earth_dict['rho']        = 2.9      # basalt, g/m3\n",
    "earth_dict['d_sc']       = 3*1000   # m\n",
    "\n",
    "# and another dictionary to hold all impactor-relevant info\n",
    "impact_dict = dict()\n",
    "impact_dict['theta']     = 90       # degrees, head-on\n",
    "impact_dict['vel']       = 15*1000  # m/s\n",
    "impact_dict['radius']    = 500      # m\n",
    "impact_dict['rho']       = 7.8      # iron, g/m3\n",
    "\n",
    "# Using equation 1, we can compute the crater diameter\n",
    "# We break up the equation into parts that will be multiplied for simplicity (see image below):\n",
    "eqn_a = (impact_dict['rho']/earth_dict['rho'])**(0.38)\n",
    "eqn_b = impact_dict['radius']**(0.88) \n",
    "eqn_c = impact_dict['vel']**(0.5)\n",
    "eqn_d = earth_dict['earth_g']**(-.25)\n",
    "eqn_e = earth_dict['d_sc']**(-0.13)       \n",
    "eqn_f = math.sin(math.radians(90))   # be sure to convert to radius when using math.sin()\n",
    "\n",
    "# Now, we multiply all equation parts together and by 1.52, as defined in Equation 1\n",
    "d_fin = 1.52*eqn_a*eqn_b*eqn_c*eqn_d*eqn_e*eqn_f\n",
    "\n",
    "# Again, we could also do this by making all parts of the equation a list, and then getting the product:\n",
    "eqn_list = [eqn_a, eqn_b, eqn_c, eqn_d, eqn_e, eqn_f]\n",
    "product = 1.52                       # the first thing to be multiplied \n",
    "for x in eqn_list:\n",
    "    product *= x \n",
    "d_fin2 = product\n",
    "\n",
    "# Let's confirm both approaches match:\n",
    "print(\"The expected crater diameter for this impact event is {0:.3f} km\".format(d_fin/1000))\n",
    "print(\"The expected crater diameter for this impact event is {0:.3f} km\".format(d_fin2/1000))"
   ]
  },
  {
   "cell_type": "markdown",
   "metadata": {},
   "source": [
    "#### 4. If *all* impact parameters from the scenario in Q3 remain the same (even $D_{sc}$, even if that is not necessarily true), but this even takes place on the Moon, would you expect the resulting crater to be larger or smaller? Explain."
   ]
  },
  {
   "cell_type": "code",
   "execution_count": null,
   "metadata": {},
   "outputs": [],
   "source": [
    "# Mathematically, if every thing stays the same except that this impact is on the moon, we need only to inspect the effect of gravity\n",
    "# The moon's gravity is 1.62 m/s2, or about 16% of the Earths\n",
    "# By inspection of equation 1, d_fin is proportional to g^(-0.25)\n",
    "\n",
    "earth_g = 9.8\n",
    "moon_g = 1.62\n",
    "\n",
    "print(earth_g**(-.25))\n",
    "print(moon_g**(-.25))\n",
    "\n",
    "# So the crater size difference will be the ratio of these,\n",
    "print(moon_g**(-.25)/earth_g**(-.25))"
   ]
  },
  {
   "cell_type": "markdown",
   "metadata": {},
   "source": [
    "The moon impact event would result in a **larger** crater than the impact event on Earth. "
   ]
  },
  {
   "cell_type": "code",
   "execution_count": null,
   "metadata": {},
   "outputs": [],
   "source": []
  }
 ],
 "metadata": {
  "kernelspec": {
   "display_name": "Python 3",
   "language": "python",
   "name": "python3"
  },
  "language_info": {
   "codemirror_mode": {
    "name": "ipython",
    "version": 3
   },
   "file_extension": ".py",
   "mimetype": "text/x-python",
   "name": "python",
   "nbconvert_exporter": "python",
   "pygments_lexer": "ipython3",
   "version": "3.7.7"
  }
 },
 "nbformat": 4,
 "nbformat_minor": 4
}
