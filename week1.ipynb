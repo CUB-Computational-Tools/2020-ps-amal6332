{
 "cells": [
  {
   "cell_type": "markdown",
   "metadata": {},
   "source": [
    "<div style=\"background: #efffed;\n",
    "            border: 1px solid grey;\n",
    "            margin: 8px 0 8px 0;\n",
    "            text-align: center;\n",
    "            padding: 8px; \">\n",
    "    <i class=\"fa-play fa\" \n",
    "       style=\"font-size: 40px;\n",
    "              line-height: 40px;\n",
    "              margin: 8px;\n",
    "              color: #444;\">\n",
    "    </i>\n",
    "    <center>\n",
    "    Click into a code cell (the gray blocks below) to select or edit it.<br/>\n",
    "    To run a selected code cell, hit <pre style=\"background: #efffed\">Shift + Enter</pre>\n",
    "    Make sure that each code cell runs successfully before you move on to the next one.\n",
    "    </center>\n",
    "</div>"
   ]
  },
  {
   "cell_type": "markdown",
   "metadata": {},
   "source": [
    "# Impacts!\n",
    "#### an intro into the physics of cratering on Earth"
   ]
  },
  {
   "cell_type": "markdown",
   "metadata": {},
   "source": [
    "## Learning Goals\n",
    "1. Describe the relationship between impact velocity, impact angle, projectile size, target size on crater shape and size based on \"EQN TK\"\n",
    "2. Identify which variable has the strongest effect on crater size\n",
    "3. Calculate the estimated crater depth and diameter for a given impactor on Earth\n",
    "4. Scale an impact event on Earth for an impact by the same impactor, impact velocity on the Moon\n"
   ]
  },
  {
   "cell_type": "markdown",
   "metadata": {},
   "source": [
    "## Background\n",
    "An impact event occurs when an object, generally referred to as a projectile or bolide, crosses orbits and collides with another body. The object whose orbit is intersected and impacted is called the target. The resulting structure, almost always a rounded, concave feature, is known as an impact crater. Cratering is the primary geomorphologic process in the solar system. As such, understanding this process on Earth is fundamental to understanding the surfaces and geologic evolutions of other worlds. \n",
    "\n",
    "The physical process shaping impact craters are (almost) universal across scales and planetary body conditions— hence their quintessential appearance on all solid bodies we have observed. To describe the complicated physical processes which govern crater formation, Melosh 1989 outlines a chronological sequence of the stages in cratering formation from the impactor’s first touch with the target to the final stage of the crater as it is being smoothed by viscous degradation. These stages are referred to as: Contact and Compression, Excavation and Modification."
   ]
  },
  {
   "cell_type": "markdown",
   "metadata": {},
   "source": [
    "### Contact and Compression \n",
    "This first stage begins when the impactor initially makes contact with the target and nearly all of the impactor impulse is delivered to the target. The shock wave propagates through the impactor on a timescale of $\\frac{length}{velocity_{impact}}$. This is the shortest stage in the crater formation, taking about twice the shock crossing time of the impactor. For example, the Contact and Compression stage for a 1-meter impactor with velocity of 10 km/s takes about 10-3 seconds; compared to a 1 km impactor with the same impact velocity that takes about 0.1 seconds. \n",
    "\n",
    "### Excavation \n",
    "During the Contact and Compression phase, strong shock waves start to propagate through the target and most of the volume of the initial crater is excavated. During this phase, two different-yet-connected physical mechanisms are at work: the propagation of the dissipating shock waves and the excavation flow (initiated by the shock waves).\n",
    "\n",
    "Crater growth starts as the hemispherical cavity expands after the first contact until it reaches about one third of the final depth of the transient crater. Growth continues only in the radial direction, as the strength of the target material prevents further deepening. As the crater’s growth comes to a stop, we have the geological formation of “transient crater”. This phase of crater formation takes about 100 times longer than the Contact and Compression phase and is determined by the gravity of the target. \n",
    "\n",
    "### Modification \n",
    "After the crater growth is over, the displaced material falls back to fill the crater. This final stage of crater formation can vary by crater size and gravity. For instance, small/simple craters (< 10s of km) simply fill and are left with crater walls near the angle of repose. Simple craters are often described as bowl-shaped, exhibit little-to-no topography in the crater floor, and have depth-to-diameter ratios between 1:3 and 1:5 on Earth (Melosh, 1989).\n",
    "\n",
    "Different processes are at play for large, ‘complex’ craters (> 100s of kilometers), which can have central peaks and/or rings in the crater floor. The transition of simple-to-complex crater is highly dependent on the gravity of the planet. The timescale for these processes are proportional to $\\frac{L}{g}$ where l is the crater diameter and g is the gravitational acceleration of the planet.\n",
    "\n",
    "The last step that modifies the crater is viscous degradation, which is due to the rheological viscosity of the material— no rock is really solid, but a very thick fluid. Hence, on geological timescales the material of the target would like to recover the minimum energy state, which is the flat plane. This mechanism for eradicating craters becomes more efficient with increasing temperature of the target and might be important on Venus."
   ]
  },
  {
   "cell_type": "markdown",
   "metadata": {},
   "source": [
    "### Impact Velocity\n",
    "The impact velocity (speed and direction of impact) is determined by the location in the solar system where the impact occurs -- impacts futher from the Sun will have lower impact velocities while collisions close in will have higher impact velocities. This is due to the acceleration caused by the Sun's strong gravitational pull. Futhermore, impacts into larger bodies (e.g., Earth and Venus) will have higher impact velocities relative to smaller, nearby bodies (e.g., Moon and Mars) as there is a gravitational acceleration from the planet or moon as well.\n",
    "\n",
    "The minimum impact velocity is equal to the escape velocity of the target, $v_{esc} = \\sqrt{\\frac{2GM_{sun}}{r_t}}$ where $G$ is the gravitational constant, $M$ is mass of the target and $r_t$ is the radius of the target.\n",
    "\n",
    "The maximum impact velocity is the sum of the escape velocity for the solar system and the orbital speed of the target body around the sun. The escape velocity from the solar system is appx. 42 km/s and the orbital speed of the Earth is ~30 km/s, for reference."
   ]
  },
  {
   "cell_type": "markdown",
   "metadata": {},
   "source": [
    "### Scaling\n",
    "The most common approach for impact crater scaling has used the \"Pi-group scaling theorem\" -- which is essentially a fancy version of dimensional analysis in which the physically relevant parameters for the apparent diameter of a crater are impact velocity, $v$, target and projectile densities, $\\rho_{targ}$ and $\\rho_{proj}$, size of the impactor, $D_{proj}$, target strength, $Y$, gravity, $g$, and impact angle, $\\theta$ \n",
    "\n",
    "Another parameter, is the simple-to-complex transition factor, which is target-body dependent.  $D_{sc}$ is the final rim diameter at the simple-to-complex transition. On Earth, craters larger than $D_{sc}$ ≈ 2−4 km have more complex morpholo- gies, including central uplifts and peak rings.\n",
    "\n",
    "Using the variables described above, Johnson et al., (2016) derived the following equation (Equation 1) for general use that relates impactor and target properties directly to the final crater rim diameter:\n",
    "\n",
    "$$D_{fin} = 1.52(\\frac{\\rho_{proj}}{\\rho_{targ}})^{0.38}D_{proj}^{0.88}v_{impact}^{0.5}g^{-0.25}D_{sc}^{-0.13}sin^{0.38}(\\theta)$$"
   ]
  },
  {
   "cell_type": "markdown",
   "metadata": {},
   "source": [
    "## Example\n",
    "\n",
    "Mars is located (on average) 1.5 au from the Sun (about $228 x 10^{6}$ km), composed primarly of basalt and has a gravitational acceleration of ~$g = 3.2 m/s^2$. The mean orbital velocity is about 24 km/s. Suppose an object made also of basalt, traveling 10 km/s opposite Mars' orbital direction will collide head-on. What is the expected impact velocity? "
   ]
  },
  {
   "cell_type": "code",
   "execution_count": 2,
   "metadata": {},
   "outputs": [],
   "source": [
    "import math\n",
    "\n",
    "# establish constants, dictionary for Mars parameters\n",
    "G_cont = 6.67E-11                    # m3/kgs2\n",
    "theta  = 90                          # degrees, head-on, convert to radians in equation\n",
    "d_proj = 1                           # km\n",
    "mars_dict = dict()\n",
    "mars_dict['mars_g'] = 3.2            # m/s2\n",
    "mars_dict['mars_orb_v'] = 24*1000    # m/s\n",
    "mars_dict['mars_M'] = 6.37E23        # kg\n",
    "mars_dict['mars_r'] = 3.4E6          # m\n",
    "mars_dict['mars_orbv'] = 24          # km/s\n",
    "mars_dict['mars_Dsc'] = 5            # km\n",
    "mars_dict['rho'] = 2.9               # basalt, same as projectile, g/m3; ratio will be 1 so units don't matter\n",
    "mars_dict['d_sc'] = 5                # km\n"
   ]
  },
  {
   "cell_type": "code",
   "execution_count": 5,
   "metadata": {},
   "outputs": [
    {
     "name": "stdout",
     "output_type": "stream",
     "text": [
      "The expected impact velocity for this event onto Mars is 28.999 km/s\n"
     ]
    }
   ],
   "source": [
    "# Using the escape velocity equation and convert to km/s\n",
    "mars_esc_v = math.sqrt((2*G_cont*mars_dict['mars_M'])/mars_dict['mars_r'])/1000  \n",
    "\n",
    "# We simply sum the two velocities since the collision is head-on.\n",
    "mars_imp_v = mars_esc_v + mars_dict['mars_orbv']                                   \n",
    "\n",
    "print(\"The expected impact velocity for this event onto Mars is {0:.3f} km/s\".format(mars_imp_v))"
   ]
  },
  {
   "cell_type": "markdown",
   "metadata": {},
   "source": [
    "On Mars, $D_{sc}$ is expected to be between 3-8 km. Let's use an intermediate value of 5 km. Using the impact velocity above, let's see what the anticipated crater diameter will be. "
   ]
  },
  {
   "cell_type": "code",
   "execution_count": 6,
   "metadata": {},
   "outputs": [
    {
     "name": "stdout",
     "output_type": "stream",
     "text": [
      "The expected crater diameter for this impact event is 4.083 km\n"
     ]
    }
   ],
   "source": [
    "# Using equation 1, we can compute the crater diameter\n",
    "d_fin = 1.25*(mars_dict['rho']/mars_dict['rho'])**(0.38)*d_proj**(0.88)*mars_imp_v**(0.5)*mars_dict['mars_g']**(-.25)*mars_dict['d_sc']**(-0.13)*math.sin(math.radians(90))\n",
    "print(\"The expected crater diameter for this impact event is {0:.3f} km\".format(d_fin))"
   ]
  },
  {
   "cell_type": "markdown",
   "metadata": {},
   "source": [
    "## Questions"
   ]
  },
  {
   "cell_type": "markdown",
   "metadata": {},
   "source": [
    "#### 1. What are the three stages of crater formation? Which phase is the shortest? What causes timescales to vary during the modification stage?"
   ]
  },
  {
   "cell_type": "code",
   "execution_count": null,
   "metadata": {},
   "outputs": [],
   "source": []
  },
  {
   "cell_type": "markdown",
   "metadata": {},
   "source": [
    "#### 2. Why would an impact event on Earth occur with a higher impact velocity than on Mars (hint: there is more than 1 reason, neglect the atmosphere)?"
   ]
  },
  {
   "cell_type": "code",
   "execution_count": null,
   "metadata": {},
   "outputs": [],
   "source": []
  },
  {
   "cell_type": "markdown",
   "metadata": {},
   "source": [
    "#### 3. Use Equation 1 to calculate the final crater diameter for the following scenario (you may need to look up some constants!):\n",
    "\n",
    "A 500 m iron projectile made it through the Earth's atmosphere and will impact the Columbia River Basalt field in Eastern Washington State head-on (hint: $\\theta$=90 deg) at a velocity of 15 km/s. Let $D_{sc}$ = 3 in this scenario on Earth. "
   ]
  },
  {
   "cell_type": "code",
   "execution_count": null,
   "metadata": {},
   "outputs": [],
   "source": []
  },
  {
   "cell_type": "markdown",
   "metadata": {},
   "source": [
    "#### 4. If *all* impact parameters from the scenario in Q3 remain the same (even $D_{sc}$, even if that is not necessarily true), but this even takes place on the Moon, would you expect the resulting crater to be larger or smaller? Explain."
   ]
  },
  {
   "cell_type": "code",
   "execution_count": null,
   "metadata": {},
   "outputs": [],
   "source": []
  }
 ],
 "metadata": {
  "kernelspec": {
   "display_name": "Python 3",
   "language": "python",
   "name": "python3"
  },
  "language_info": {
   "codemirror_mode": {
    "name": "ipython",
    "version": 3
   },
   "file_extension": ".py",
   "mimetype": "text/x-python",
   "name": "python",
   "nbconvert_exporter": "python",
   "pygments_lexer": "ipython3",
   "version": "3.7.7"
  }
 },
 "nbformat": 4,
 "nbformat_minor": 4
}
