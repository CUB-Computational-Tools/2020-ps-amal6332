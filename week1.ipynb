{
 "cells": [
  {
   "cell_type": "markdown",
   "metadata": {},
   "source": [
    "<div style=\"background: #efffed;\n",
    "            border: 1px solid grey;\n",
    "            margin: 8px 0 8px 0;\n",
    "            text-align: center;\n",
    "            padding: 8px; \">\n",
    "    <i class=\"fa-play fa\" \n",
    "       style=\"font-size: 40px;\n",
    "              line-height: 40px;\n",
    "              margin: 8px;\n",
    "              color: #444;\">\n",
    "    </i>\n",
    "    <center>\n",
    "    Click into a code cell (the gray blocks below) to select or edit it.<br/>\n",
    "    To run a selected code cell, hit <pre style=\"background: #efffed\">Shift + Enter</pre>\n",
    "    Make sure that each code cell runs successfully before you move on to the next one.\n",
    "    </center>\n",
    "</div>"
   ]
  },
  {
   "cell_type": "markdown",
   "metadata": {},
   "source": [
    "### **Impacts!** an intro into the physics of cratering on Earth\n",
    "Author: Amanda Alexander\n",
    "\n",
    "Date: 1 September 2002"
   ]
  },
  {
   "cell_type": "markdown",
   "metadata": {},
   "source": [
    "## Learning Goals\n",
    "1. Describe the formation process for an impact event\n",
    "2. Identify which variable has the strongest effect on crater size\n",
    "3. Calculate the estimated diameter for a given impactor on Earth\n",
    "4. Scale an impact event on Earth for the same impact event on the Moon\n"
   ]
  },
  {
   "cell_type": "markdown",
   "metadata": {},
   "source": [
    "## Background\n",
    "An **impact event** occurs when an object, generally referred to as a projectile or bolide, crosses orbits and collides with another body. The object whose orbit is intersected and impacted is called the **target**. The resulting structure, almost always a rounded, concave feature, is known as an **impact crater**. Cratering is the primary geomorphologic process in the solar system. As such, understanding this process on Earth is fundamental to understanding the surfaces and geologic evolutions of other worlds. \n",
    "\n",
    "The physical process shaping impact craters are (almost) universal across scales and planetary body conditions— hence their quintessential appearance on all solid bodies we have observed. To describe the complicated physical processes which govern crater formation, Melosh 1989 outlines a chronological sequence of the stages in cratering formation from the impactor’s first touch with the target to the final stage of the crater as it is being smoothed by viscous degradation. These stages are referred to as: **Contact and Compression, Excavation and Modification.**"
   ]
  },
  {
   "cell_type": "markdown",
   "metadata": {},
   "source": [
    "### Contact and Compression \n",
    "This first stage begins when the impactor initially makes contact with the target and nearly all of the impactor impulse is delivered to the target. The shock wave propagates through the impactor on a timescale of $\\frac{l}{v}$ where $l$ is the radius of the projectile and $v$ is the impact velocity. This is the *shortest stage* in the crater formation, taking about twice the shock crossing time of the impactor. For example, the Contact and Compression stage for a 1-meter impactor with velocity of 10 km/s takes about $10^{-3}$ seconds; compared to a 1 km impactor with the same impact velocity that takes about 0.1 seconds. \n",
    "\n",
    "### Excavation \n",
    "Strong shock waves start to propagate through the target and most of the volume of the initial crater is excavated. During this phase, two different-yet-connected physical mechanisms are at work: the propagation of the dissipating shock waves and the excavation flow (initiated by the shock waves).\n",
    "\n",
    "Crater growth starts as the hemispherical cavity expands after the first contact until it reaches about one third of the final depth of the transient crater. Growth continues only in the radial direction, as the strength of the target material prevents further deepening. As the crater’s growth comes to a stop, we have the geological formation of “transient crater”. This phase of crater formation takes about *100 times longer than the Contact and Compression phase* and is *determined by the gravity of the target*. \n",
    "\n",
    "### Modification \n",
    "After the crater growth is over, the displaced material falls back to fill the crater. This final stage of crater formation can *vary by crater size and gravity*. For instance, small/simple craters (< 10s of km) simply fill and are left with crater walls near the angle of repose. Simple craters are often described as bowl-shaped, exhibit little-to-no topography in the crater floor, and have depth-to-diameter ratios between 1:3 and 1:5 on Earth (Melosh, 1989).\n",
    "\n",
    "Different processes are at play for large, ‘complex’ craters (> 100s of km), which can have central peaks and/or rings in the crater floor. The transition of simple-to-complex crater is highly dependent on the gravity of the planet. The timescale for these processes are proportional to $\\frac{L}{g}$ where $l$ is the crater diameter and $g$ is the gravitational acceleration of the planet.\n",
    "\n",
    "The last step that modifies the crater is viscous degradation, which is due to the rheological viscosity of the material— no rock is really solid, but a very thick fluid. Hence, on geological timescales the material of the target would like to recover the minimum energy state, which is the flat plane. This mechanism for eradicating craters becomes more efficient with increasing temperature of the target and might be important on Venus.\n",
    "\n",
    "<center><img src=\"crater_formation.png\" alt=\"Crater formation process\" style=\"width: 750px;\"/><center/>"
   ]
  },
  {
   "cell_type": "markdown",
   "metadata": {},
   "source": [
    "### Impact Velocity\n",
    "The impact velocity (speed and direction of impact) is determined by the location in the solar system where the impact occurs -- impacts futher from the Sun will have lower impact velocities while collisions closer to the Sun will have higher impact velocities. This is due to the acceleration caused by the Sun's strong gravitational pull. Futhermore, impacts into larger bodies (e.g., Earth and Venus) will have higher impact velocities relative to smaller, nearby bodies (e.g., Moon and Mars) as there is a gravitational acceleration from the planet or moon as well.\n",
    "\n",
    "The minimum impact velocity is equal to the escape velocity of the target, $v_{esc} = \\sqrt{\\frac{2GM_{t}}{r_t}}$ where $G$ is the gravitational constant, $M_t$ is mass of the target and $r_t$ is the radius of the target.\n",
    "\n",
    "The maximum impact velocity is the sum of the escape velocity for the solar system and the orbital speed of the target body around the sun. The escape velocity from the solar system is appx. 42 km/s and the orbital speed of the Earth is ~30 km/s, for reference."
   ]
  },
  {
   "cell_type": "markdown",
   "metadata": {},
   "source": [
    "### Scaling\n",
    "The most common approach for impact crater scaling has used the **\"Pi-group scaling theorem\"** -- which is essentially a fancy version of dimensional analysis in which the physically relevant parameters for the apparent diameter of a crater are impact velocity, $v$, target and projectile densities, $\\rho_{targ}$ and $\\rho_{proj}$, size of the impactor, $D_{proj}$, target strength, $Y$, gravity, $g$, and impact angle, $\\theta$ \n",
    "\n",
    "Another parameter, is the simple-to-complex transition factor, which is target-body dependent.  $D_{sc}$ is the final rim diameter at the simple-to-complex transition. On Earth, craters larger than $D_{sc}$ ≈ 2−4 km have more complex morphologies, including central uplifts and peak rings.\n",
    "\n",
    "Using the variables described above, Johnson et al., (2016) derived the following equation **(Equation 1)** for general use that relates impactor and target properties directly to the final crater rim diameter ($D_{fin})$:\n",
    "\n",
    "**Equation 1:**\n",
    "$$D_{fin} = 1.52(\\frac{\\rho_{proj}}{\\rho_{targ}})^{0.38}D_{proj}^{0.88}v_{impact}^{0.5}g^{-0.25}D_{sc}^{-0.13}sin^{0.38}(\\theta)$$"
   ]
  },
  {
   "cell_type": "markdown",
   "metadata": {},
   "source": [
    "## Example\n",
    "\n",
    "Mars is located (on average) 1.5 au from the Sun (about $228 x 10^{6}$ km), composed primarly of basalt and has a gravitational acceleration of ~$g = 3.2 m/s^2$. The mean orbital velocity is about 24 km/s. Suppose an 1 km object made also of basalt, traveling 10 km/s opposite Mars' orbital direction will collide head-on. What is the expected impact velocity? "
   ]
  },
  {
   "cell_type": "code",
   "execution_count": null,
   "metadata": {},
   "outputs": [],
   "source": [
    "import math\n",
    "\n",
    "# establish constants\n",
    "G_cont = 6.67E-11                     # gravitational constant, m3/kgs2\n",
    "theta  = 90                           # impact angle, degrees, head-on, convert to radians in equation\n",
    "d_proj = 1000                         # projectile diameter, m\n",
    "\n",
    "# create a dictionary to hold all Mars-relevant info\n",
    "mars_dict = dict()\n",
    "mars_dict['mars_g']     = 3.2          # mars gravity, m/s2\n",
    "mars_dict['mars_orbv'] = 24*1000      # mars orbital vel, m/s\n",
    "mars_dict['mars_M']     = 6.37E23      # mars mass, kg\n",
    "mars_dict['mars_r']     = 3.4E6        # mars radius, m\n",
    "mars_dict['rho']        = 2.9          # basalt, same as projectile, g/m3; ratio will be 1 so units don't matter\n",
    "mars_dict['d_sc']       = 5000         # m\n"
   ]
  },
  {
   "cell_type": "code",
   "execution_count": null,
   "metadata": {},
   "outputs": [],
   "source": [
    "# Using the escape velocity equation and convert to km/s\n",
    "mars_esc_v = math.sqrt((2*G_cont*mars_dict['mars_M'])/mars_dict['mars_r'])  \n",
    "\n",
    "# We simply sum the two velocities since the collision is head-on.\n",
    "mars_imp_v = mars_esc_v + mars_dict['mars_orbv']                                   \n",
    "\n",
    "print(\"The expected impact velocity for this event onto Mars is {0:.3f} km/s\".format(mars_imp_v/1000))"
   ]
  },
  {
   "cell_type": "markdown",
   "metadata": {},
   "source": [
    "On Mars, $D_{sc}$ is expected to be between 3-8 km. Let's use an intermediate value of 5 km. Using the impact velocity above, let's see what the anticipated crater diameter will be. "
   ]
  },
  {
   "cell_type": "code",
   "execution_count": null,
   "metadata": {},
   "outputs": [],
   "source": [
    "# Using equation 1, we can compute the crater diameter\n",
    "# Let's break up the equation into parts that will be multiplied for simplicity (see image below):\n",
    "\n",
    "eqn_a = (mars_dict['rho']/mars_dict['rho'])**(0.38)\n",
    "eqn_b = d_proj**(0.88)\n",
    "eqn_c = mars_imp_v**(0.5)\n",
    "eqn_d = mars_dict['mars_g']**(-.25)\n",
    "eqn_e = mars_dict['d_sc']**(-0.13)\n",
    "eqn_f = math.sin(math.radians(90)) # be sure to convert to radius when using math.sin()"
   ]
  },
  {
   "cell_type": "markdown",
   "metadata": {},
   "source": [
    "<center><img src=\"eqn_1.JPG\" style=\"width: 400px;\"/><center/>"
   ]
  },
  {
   "cell_type": "code",
   "execution_count": null,
   "metadata": {},
   "outputs": [],
   "source": [
    "# Now, we multiply all equation parts together and by 1.52, as defined in Equation 1\n",
    "d_fin = 1.52*eqn_a*eqn_b*eqn_c*eqn_d*eqn_e*eqn_f\n",
    "\n",
    "# We could also do this by making all parts of the equation a list, and then getting the product:\n",
    "eqn_list = [eqn_a, eqn_b, eqn_c, eqn_d, eqn_e, eqn_f]\n",
    "product = 1.52 # the first thing to be multiplied \n",
    "for x in eqn_list:\n",
    "    product *= x \n",
    "d_fin2 = product\n",
    "\n",
    "# Let's confirm both approaches match:\n",
    "print(\"The expected crater diameter for this impact event is {0:.3f} km\".format(d_fin/1000))\n",
    "print(\"The expected crater diameter for this impact event is {0:.3f} km\".format(d_fin2/1000))"
   ]
  },
  {
   "cell_type": "markdown",
   "metadata": {},
   "source": [
    "## Questions"
   ]
  },
  {
   "cell_type": "markdown",
   "metadata": {},
   "source": [
    "#### 1. What are the three stages of crater formation? Which phase is the shortest? What causes timescales to vary during the modification stage?"
   ]
  },
  {
   "cell_type": "markdown",
   "metadata": {},
   "source": [
    "Text response for Q1 here:\n"
   ]
  },
  {
   "cell_type": "markdown",
   "metadata": {},
   "source": [
    "#### 2. Why would an impact event on Earth occur with a higher impact velocity than on Mars (hint: there is more than 1 reason, neglect the atmosphere)?"
   ]
  },
  {
   "cell_type": "markdown",
   "metadata": {},
   "source": [
    "Text response for Q2 here:"
   ]
  },
  {
   "cell_type": "markdown",
   "metadata": {},
   "source": [
    "#### 3. Use Equation 1 to calculate the final crater diameter for the following scenario (you may need to look up some constants!):\n",
    "\n",
    "A 500 m iron projectile made it through the Earth's atmosphere and will impact the Columbia River Basalt field in Eastern Washington State head-on (hint: $\\theta$=90 deg) at a velocity of 15 km/s. Let $D_{sc}$ = 3 in this scenario on Earth. "
   ]
  },
  {
   "cell_type": "code",
   "execution_count": null,
   "metadata": {},
   "outputs": [],
   "source": [
    "# use this box and the coding tips from the example before to answer Q3 here"
   ]
  },
  {
   "cell_type": "markdown",
   "metadata": {},
   "source": [
    "#### 4. If *all* impact parameters from the scenario in Q3 remain the same (even $D_{sc}$, even if that is not necessarily true), but this even takes place on the Moon, would you expect the resulting crater to be larger or smaller? Explain."
   ]
  },
  {
   "cell_type": "code",
   "execution_count": null,
   "metadata": {},
   "outputs": [],
   "source": [
    "# you may use this code box to mathematically answer Q4 "
   ]
  },
  {
   "cell_type": "markdown",
   "metadata": {},
   "source": [
    "Or you may answer using a text response here:"
   ]
  },
  {
   "cell_type": "markdown",
   "metadata": {},
   "source": [
    "### That's the end of the lesson! \n",
    "**For more fun with impacts and to see fun & exciting visualizations, check out the [Impact Earth Simulator!](https://www.purdue.edu/impactearth/)**"
   ]
  },
  {
   "cell_type": "markdown",
   "metadata": {},
   "source": [
    "*Resources:*\n",
    "\n",
    "Melosh, H.J., Impact Cratering: A Geologic Process, Oxford University Press, 1989\n",
    "\n",
    "Johnson, B.C., Collins, G.S., Minton, D.A., Bowling, T.J., Simonson, B.M., Zuber, M.T., Speherule layers, crater scaling laws, and the population of ancient terrestrial impactors, Icarus, 271 pp 350-359, 2016"
   ]
  }
 ],
 "metadata": {
  "kernelspec": {
   "display_name": "Python 3",
   "language": "python",
   "name": "python3"
  },
  "language_info": {
   "codemirror_mode": {
    "name": "ipython",
    "version": 3
   },
   "file_extension": ".py",
   "mimetype": "text/x-python",
   "name": "python",
   "nbconvert_exporter": "python",
   "pygments_lexer": "ipython3",
   "version": "3.7.7"
  }
 },
 "nbformat": 4,
 "nbformat_minor": 4
}
